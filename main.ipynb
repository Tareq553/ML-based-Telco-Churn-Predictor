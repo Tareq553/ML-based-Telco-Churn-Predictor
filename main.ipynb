{
 "cells": [
  {
   "cell_type": "markdown",
   "id": "3c9a1f09",
   "metadata": {},
   "source": [
    "# Importing Necessary Libraries"
   ]
  },
  {
   "cell_type": "markdown",
   "id": "2ababcdf",
   "metadata": {},
   "source": [
    "``` This notebook demonstrates a comprehensive approach to predicting customer churn using machine learning. It includes data preprocessing, exploratory data analysis, feature engineering, model training, and evaluation.```"
   ]
  },
  {
   "cell_type": "code",
   "execution_count": 88,
   "id": "3d2989bc",
   "metadata": {},
   "outputs": [],
   "source": [
    "import pandas as pd\n",
    "import numpy as np\n",
    "import seaborn as sns\n",
    "import matplotlib.pyplot as plt\n",
    "\n",
    "from sklearn.preprocessing import LabelEncoder\n",
    "from sklearn.ensemble import GradientBoostingClassifier, RandomForestClassifier\n",
    "from sklearn.linear_model import LogisticRegression\n",
    "from sklearn.model_selection import train_test_split, RandomizedSearchCV, cross_val_score\n",
    "from sklearn.metrics import accuracy_score, f1_score, precision_score, recall_score, roc_curve, roc_auc_score\n",
    "from imblearn.over_sampling import SMOTE\n",
    "import warnings\n",
    "import joblib"
   ]
  },
  {
   "cell_type": "code",
   "execution_count": 89,
   "id": "7384c439",
   "metadata": {},
   "outputs": [],
   "source": [
    "# pip install xgboost"
   ]
  },
  {
   "cell_type": "markdown",
   "id": "0535df7f",
   "metadata": {},
   "source": [
    "# Step 1: Load the Dataset"
   ]
  },
  {
   "cell_type": "code",
   "execution_count": 90,
   "id": "a463ef6a",
   "metadata": {},
   "outputs": [],
   "source": [
    "data = pd.read_excel(r\"D:\\GitHub\\Telco-Churn-Predictor\\data\\Telco_customer_churn.xlsx\")\n",
    "df = data.copy()"
   ]
  },
  {
   "cell_type": "markdown",
   "id": "497c5080",
   "metadata": {},
   "source": [
    "`Overview of the Data`"
   ]
  },
  {
   "cell_type": "code",
   "execution_count": 91,
   "id": "96aa0d84",
   "metadata": {},
   "outputs": [
    {
     "data": {
      "text/html": [
       "<div>\n",
       "<style scoped>\n",
       "    .dataframe tbody tr th:only-of-type {\n",
       "        vertical-align: middle;\n",
       "    }\n",
       "\n",
       "    .dataframe tbody tr th {\n",
       "        vertical-align: top;\n",
       "    }\n",
       "\n",
       "    .dataframe thead th {\n",
       "        text-align: right;\n",
       "    }\n",
       "</style>\n",
       "<table border=\"1\" class=\"dataframe\">\n",
       "  <thead>\n",
       "    <tr style=\"text-align: right;\">\n",
       "      <th></th>\n",
       "      <th>CustomerID</th>\n",
       "      <th>Count</th>\n",
       "      <th>Country</th>\n",
       "      <th>State</th>\n",
       "      <th>City</th>\n",
       "      <th>Zip Code</th>\n",
       "      <th>Lat Long</th>\n",
       "      <th>Latitude</th>\n",
       "      <th>Longitude</th>\n",
       "      <th>Gender</th>\n",
       "      <th>...</th>\n",
       "      <th>Contract</th>\n",
       "      <th>Paperless Billing</th>\n",
       "      <th>Payment Method</th>\n",
       "      <th>Monthly Charges</th>\n",
       "      <th>Total Charges</th>\n",
       "      <th>Churn Label</th>\n",
       "      <th>Churn Value</th>\n",
       "      <th>Churn Score</th>\n",
       "      <th>CLTV</th>\n",
       "      <th>Churn Reason</th>\n",
       "    </tr>\n",
       "  </thead>\n",
       "  <tbody>\n",
       "    <tr>\n",
       "      <th>0</th>\n",
       "      <td>3668-QPYBK</td>\n",
       "      <td>1</td>\n",
       "      <td>United States</td>\n",
       "      <td>California</td>\n",
       "      <td>Los Angeles</td>\n",
       "      <td>90003</td>\n",
       "      <td>33.964131, -118.272783</td>\n",
       "      <td>33.964131</td>\n",
       "      <td>-118.272783</td>\n",
       "      <td>Male</td>\n",
       "      <td>...</td>\n",
       "      <td>Month-to-month</td>\n",
       "      <td>Yes</td>\n",
       "      <td>Mailed check</td>\n",
       "      <td>53.85</td>\n",
       "      <td>108.15</td>\n",
       "      <td>Yes</td>\n",
       "      <td>1</td>\n",
       "      <td>86</td>\n",
       "      <td>3239</td>\n",
       "      <td>Competitor made better offer</td>\n",
       "    </tr>\n",
       "    <tr>\n",
       "      <th>1</th>\n",
       "      <td>9237-HQITU</td>\n",
       "      <td>1</td>\n",
       "      <td>United States</td>\n",
       "      <td>California</td>\n",
       "      <td>Los Angeles</td>\n",
       "      <td>90005</td>\n",
       "      <td>34.059281, -118.30742</td>\n",
       "      <td>34.059281</td>\n",
       "      <td>-118.307420</td>\n",
       "      <td>Female</td>\n",
       "      <td>...</td>\n",
       "      <td>Month-to-month</td>\n",
       "      <td>Yes</td>\n",
       "      <td>Electronic check</td>\n",
       "      <td>70.70</td>\n",
       "      <td>151.65</td>\n",
       "      <td>Yes</td>\n",
       "      <td>1</td>\n",
       "      <td>67</td>\n",
       "      <td>2701</td>\n",
       "      <td>Moved</td>\n",
       "    </tr>\n",
       "    <tr>\n",
       "      <th>2</th>\n",
       "      <td>9305-CDSKC</td>\n",
       "      <td>1</td>\n",
       "      <td>United States</td>\n",
       "      <td>California</td>\n",
       "      <td>Los Angeles</td>\n",
       "      <td>90006</td>\n",
       "      <td>34.048013, -118.293953</td>\n",
       "      <td>34.048013</td>\n",
       "      <td>-118.293953</td>\n",
       "      <td>Female</td>\n",
       "      <td>...</td>\n",
       "      <td>Month-to-month</td>\n",
       "      <td>Yes</td>\n",
       "      <td>Electronic check</td>\n",
       "      <td>99.65</td>\n",
       "      <td>820.5</td>\n",
       "      <td>Yes</td>\n",
       "      <td>1</td>\n",
       "      <td>86</td>\n",
       "      <td>5372</td>\n",
       "      <td>Moved</td>\n",
       "    </tr>\n",
       "    <tr>\n",
       "      <th>3</th>\n",
       "      <td>7892-POOKP</td>\n",
       "      <td>1</td>\n",
       "      <td>United States</td>\n",
       "      <td>California</td>\n",
       "      <td>Los Angeles</td>\n",
       "      <td>90010</td>\n",
       "      <td>34.062125, -118.315709</td>\n",
       "      <td>34.062125</td>\n",
       "      <td>-118.315709</td>\n",
       "      <td>Female</td>\n",
       "      <td>...</td>\n",
       "      <td>Month-to-month</td>\n",
       "      <td>Yes</td>\n",
       "      <td>Electronic check</td>\n",
       "      <td>104.80</td>\n",
       "      <td>3046.05</td>\n",
       "      <td>Yes</td>\n",
       "      <td>1</td>\n",
       "      <td>84</td>\n",
       "      <td>5003</td>\n",
       "      <td>Moved</td>\n",
       "    </tr>\n",
       "    <tr>\n",
       "      <th>4</th>\n",
       "      <td>0280-XJGEX</td>\n",
       "      <td>1</td>\n",
       "      <td>United States</td>\n",
       "      <td>California</td>\n",
       "      <td>Los Angeles</td>\n",
       "      <td>90015</td>\n",
       "      <td>34.039224, -118.266293</td>\n",
       "      <td>34.039224</td>\n",
       "      <td>-118.266293</td>\n",
       "      <td>Male</td>\n",
       "      <td>...</td>\n",
       "      <td>Month-to-month</td>\n",
       "      <td>Yes</td>\n",
       "      <td>Bank transfer (automatic)</td>\n",
       "      <td>103.70</td>\n",
       "      <td>5036.3</td>\n",
       "      <td>Yes</td>\n",
       "      <td>1</td>\n",
       "      <td>89</td>\n",
       "      <td>5340</td>\n",
       "      <td>Competitor had better devices</td>\n",
       "    </tr>\n",
       "  </tbody>\n",
       "</table>\n",
       "<p>5 rows × 33 columns</p>\n",
       "</div>"
      ],
      "text/plain": [
       "   CustomerID  Count        Country       State         City  Zip Code  \\\n",
       "0  3668-QPYBK      1  United States  California  Los Angeles     90003   \n",
       "1  9237-HQITU      1  United States  California  Los Angeles     90005   \n",
       "2  9305-CDSKC      1  United States  California  Los Angeles     90006   \n",
       "3  7892-POOKP      1  United States  California  Los Angeles     90010   \n",
       "4  0280-XJGEX      1  United States  California  Los Angeles     90015   \n",
       "\n",
       "                 Lat Long   Latitude   Longitude  Gender  ...        Contract  \\\n",
       "0  33.964131, -118.272783  33.964131 -118.272783    Male  ...  Month-to-month   \n",
       "1   34.059281, -118.30742  34.059281 -118.307420  Female  ...  Month-to-month   \n",
       "2  34.048013, -118.293953  34.048013 -118.293953  Female  ...  Month-to-month   \n",
       "3  34.062125, -118.315709  34.062125 -118.315709  Female  ...  Month-to-month   \n",
       "4  34.039224, -118.266293  34.039224 -118.266293    Male  ...  Month-to-month   \n",
       "\n",
       "  Paperless Billing             Payment Method  Monthly Charges Total Charges  \\\n",
       "0               Yes               Mailed check            53.85        108.15   \n",
       "1               Yes           Electronic check            70.70        151.65   \n",
       "2               Yes           Electronic check            99.65         820.5   \n",
       "3               Yes           Electronic check           104.80       3046.05   \n",
       "4               Yes  Bank transfer (automatic)           103.70        5036.3   \n",
       "\n",
       "  Churn Label Churn Value Churn Score  CLTV                   Churn Reason  \n",
       "0         Yes           1          86  3239   Competitor made better offer  \n",
       "1         Yes           1          67  2701                          Moved  \n",
       "2         Yes           1          86  5372                          Moved  \n",
       "3         Yes           1          84  5003                          Moved  \n",
       "4         Yes           1          89  5340  Competitor had better devices  \n",
       "\n",
       "[5 rows x 33 columns]"
      ]
     },
     "execution_count": 91,
     "metadata": {},
     "output_type": "execute_result"
    }
   ],
   "source": [
    "df.head()"
   ]
  },
  {
   "cell_type": "code",
   "execution_count": 92,
   "id": "e1be4dfd",
   "metadata": {},
   "outputs": [
    {
     "name": "stdout",
     "output_type": "stream",
     "text": [
      "<class 'pandas.core.frame.DataFrame'>\n",
      "RangeIndex: 7043 entries, 0 to 7042\n",
      "Data columns (total 33 columns):\n",
      " #   Column             Non-Null Count  Dtype  \n",
      "---  ------             --------------  -----  \n",
      " 0   CustomerID         7043 non-null   object \n",
      " 1   Count              7043 non-null   int64  \n",
      " 2   Country            7043 non-null   object \n",
      " 3   State              7043 non-null   object \n",
      " 4   City               7043 non-null   object \n",
      " 5   Zip Code           7043 non-null   int64  \n",
      " 6   Lat Long           7043 non-null   object \n",
      " 7   Latitude           7043 non-null   float64\n",
      " 8   Longitude          7043 non-null   float64\n",
      " 9   Gender             7043 non-null   object \n",
      " 10  Senior Citizen     7043 non-null   object \n",
      " 11  Partner            7043 non-null   object \n",
      " 12  Dependents         7043 non-null   object \n",
      " 13  Tenure Months      7043 non-null   int64  \n",
      " 14  Phone Service      7043 non-null   object \n",
      " 15  Multiple Lines     7043 non-null   object \n",
      " 16  Internet Service   7043 non-null   object \n",
      " 17  Online Security    7043 non-null   object \n",
      " 18  Online Backup      7043 non-null   object \n",
      " 19  Device Protection  7043 non-null   object \n",
      " 20  Tech Support       7043 non-null   object \n",
      " 21  Streaming TV       7043 non-null   object \n",
      " 22  Streaming Movies   7043 non-null   object \n",
      " 23  Contract           7043 non-null   object \n",
      " 24  Paperless Billing  7043 non-null   object \n",
      " 25  Payment Method     7043 non-null   object \n",
      " 26  Monthly Charges    7043 non-null   float64\n",
      " 27  Total Charges      7043 non-null   object \n",
      " 28  Churn Label        7043 non-null   object \n",
      " 29  Churn Value        7043 non-null   int64  \n",
      " 30  Churn Score        7043 non-null   int64  \n",
      " 31  CLTV               7043 non-null   int64  \n",
      " 32  Churn Reason       1869 non-null   object \n",
      "dtypes: float64(3), int64(6), object(24)\n",
      "memory usage: 1.8+ MB\n"
     ]
    }
   ],
   "source": [
    "df.info()"
   ]
  },
  {
   "cell_type": "markdown",
   "id": "17364348",
   "metadata": {},
   "source": [
    "# Step 2: Exploratory Data Analysis (EDA)"
   ]
  },
  {
   "cell_type": "markdown",
   "id": "952aa2fb",
   "metadata": {},
   "source": [
    "```Convert TotalCharges to numeric and handle missing values```"
   ]
  },
  {
   "cell_type": "code",
   "execution_count": 93,
   "id": "fb1bb757",
   "metadata": {},
   "outputs": [],
   "source": [
    "df['Total Charges'] = pd.to_numeric(df['Total Charges'], errors='coerce')\n",
    "df['Total Charges'] = df['Total Charges'].astype(float)\n",
    "df['Total Charges'].fillna(df['Total Charges'].median(), inplace=True)"
   ]
  },
  {
   "cell_type": "code",
   "execution_count": 94,
   "id": "b48d0880",
   "metadata": {},
   "outputs": [
    {
     "data": {
      "text/plain": [
       "dtype('float64')"
      ]
     },
     "execution_count": 94,
     "metadata": {},
     "output_type": "execute_result"
    }
   ],
   "source": [
    "df['Total Charges'].dtype"
   ]
  },
  {
   "cell_type": "code",
   "execution_count": 95,
   "id": "8b8d1731",
   "metadata": {},
   "outputs": [
    {
     "data": {
      "text/plain": [
       "CustomerID              0\n",
       "Count                   0\n",
       "Country                 0\n",
       "State                   0\n",
       "City                    0\n",
       "Zip Code                0\n",
       "Lat Long                0\n",
       "Latitude                0\n",
       "Longitude               0\n",
       "Gender                  0\n",
       "Senior Citizen          0\n",
       "Partner                 0\n",
       "Dependents              0\n",
       "Tenure Months           0\n",
       "Phone Service           0\n",
       "Multiple Lines          0\n",
       "Internet Service        0\n",
       "Online Security         0\n",
       "Online Backup           0\n",
       "Device Protection       0\n",
       "Tech Support            0\n",
       "Streaming TV            0\n",
       "Streaming Movies        0\n",
       "Contract                0\n",
       "Paperless Billing       0\n",
       "Payment Method          0\n",
       "Monthly Charges         0\n",
       "Total Charges           0\n",
       "Churn Label             0\n",
       "Churn Value             0\n",
       "Churn Score             0\n",
       "CLTV                    0\n",
       "Churn Reason         5174\n",
       "dtype: int64"
      ]
     },
     "execution_count": 95,
     "metadata": {},
     "output_type": "execute_result"
    }
   ],
   "source": [
    "df.isnull().sum()"
   ]
  },
  {
   "cell_type": "markdown",
   "id": "16cbbeae",
   "metadata": {},
   "source": [
    "``Visualize Churn Reasons``"
   ]
  },
  {
   "cell_type": "code",
   "execution_count": 96,
   "id": "98601d09",
   "metadata": {},
   "outputs": [
    {
     "data": {
      "image/png": "[encoded data removed]",
      "text/plain": [
       "<Figure size 432x288 with 1 Axes>"
      ]
     },
     "metadata": {
      "needs_background": "light"
     },
     "output_type": "display_data"
    }
   ],
   "source": [
    "sns.countplot(y=df['Churn Reason'])\n",
    "plt.xticks(rotation=90)\n",
    "plt.show()"
   ]
  },
  {
   "cell_type": "markdown",
   "id": "e9c96423",
   "metadata": {},
   "source": [
    "``Analyze Tenure Distribution by Churn Label``"
   ]
  },
  {
   "cell_type": "code",
   "execution_count": 97,
   "id": "7cef0939",
   "metadata": {},
   "outputs": [
    {
     "data": {
      "text/plain": [
       "<AxesSubplot:xlabel='Tenure Months', ylabel='Count'>"
      ]
     },
     "execution_count": 97,
     "metadata": {},
     "output_type": "execute_result"
    },
    {
     "data": {
      "image/png": "[encoded data removed]",
      "text/plain": [
       "<Figure size 432x288 with 1 Axes>"
      ]
     },
     "metadata": {
      "needs_background": "light"
     },
     "output_type": "display_data"
    }
   ],
   "source": [
    "sns.histplot(data=df, x=\"Tenure Months\", hue=\"Churn Label\", multiple=\"stack\", palette=\"viridis\")"
   ]
  },
  {
   "cell_type": "markdown",
   "id": "d474528a",
   "metadata": {},
   "source": [
    "``Analyze Tenure Distribution by Churn Label``"
   ]
  },
  {
   "cell_type": "code",
   "execution_count": 98,
   "id": "92aab98e",
   "metadata": {},
   "outputs": [
    {
     "data": {
      "text/plain": [
       "<AxesSubplot:xlabel='Contract', ylabel='Count'>"
      ]
     },
     "execution_count": 98,
     "metadata": {},
     "output_type": "execute_result"
    },
    {
     "data": {
      "image/png": "[encoded data removed]",
      "text/plain": [
       "<Figure size 432x288 with 1 Axes>"
      ]
     },
     "metadata": {
      "needs_background": "light"
     },
     "output_type": "display_data"
    }
   ],
   "source": [
    "sns.histplot(data=df, x=\"Contract\", hue=\"Churn Label\", multiple=\"stack\", palette=\"viridis\")"
   ]
  },
  {
   "cell_type": "code",
   "execution_count": 99,
   "id": "52dad438",
   "metadata": {},
   "outputs": [
    {
     "data": {
      "text/plain": [
       "<AxesSubplot:xlabel='Internet Service', ylabel='count'>"
      ]
     },
     "execution_count": 99,
     "metadata": {},
     "output_type": "execute_result"
    },
    {
     "data": {
      "image/png": "[encoded data removed]",
      "text/plain": [
       "<Figure size 432x288 with 1 Axes>"
      ]
     },
     "metadata": {
      "needs_background": "light"
     },
     "output_type": "display_data"
    }
   ],
   "source": [
    "sns.countplot(x=df['Internet Service'])"
   ]
  },
  {
   "cell_type": "code",
   "execution_count": 100,
   "id": "b7bbd80f",
   "metadata": {},
   "outputs": [
    {
     "data": {
      "text/plain": [
       "<AxesSubplot:xlabel='Internet Service', ylabel='Count'>"
      ]
     },
     "execution_count": 100,
     "metadata": {},
     "output_type": "execute_result"
    },
    {
     "data": {
      "image/png": "[encoded data removed]",
      "text/plain": [
       "<Figure size 432x288 with 1 Axes>"
      ]
     },
     "metadata": {
      "needs_background": "light"
     },
     "output_type": "display_data"
    }
   ],
   "source": [
    "sns.histplot(data=df, x=\"Internet Service\", hue=\"Churn Label\", multiple=\"stack\", palette=\"viridis\")"
   ]
  },
  {
   "cell_type": "code",
   "execution_count": 101,
   "id": "1a9669ce",
   "metadata": {},
   "outputs": [
    {
     "data": {
      "text/plain": [
       "0    5174\n",
       "1    1869\n",
       "Name: Churn Value, dtype: int64"
      ]
     },
     "execution_count": 101,
     "metadata": {},
     "output_type": "execute_result"
    }
   ],
   "source": [
    "df['Churn Value'].value_counts()"
   ]
  },
  {
   "cell_type": "markdown",
   "id": "537158ca",
   "metadata": {},
   "source": [
    "# Step 3: Feature Engineering"
   ]
  },
  {
   "cell_type": "markdown",
   "id": "8aca1948",
   "metadata": {},
   "source": [
    "``Drop Irrelevant Columns``"
   ]
  },
  {
   "cell_type": "code",
   "execution_count": 102,
   "id": "ab15b7a6",
   "metadata": {},
   "outputs": [],
   "source": [
    "df = df.drop(['Country','State','Count','Zip Code','Churn Reason','City','Churn Score','Churn Value','CLTV','CustomerID','Lat Long',\n",
    "                  'Latitude','Longitude'], axis=1)"
   ]
  },
  {
   "cell_type": "code",
   "execution_count": 103,
   "id": "f497efef",
   "metadata": {},
   "outputs": [
    {
     "data": {
      "text/plain": [
       "(7043, 20)"
      ]
     },
     "execution_count": 103,
     "metadata": {},
     "output_type": "execute_result"
    }
   ],
   "source": [
    "df.shape"
   ]
  },
  {
   "cell_type": "code",
   "execution_count": 104,
   "id": "df881066",
   "metadata": {},
   "outputs": [],
   "source": [
    "y = df['Churn Label']"
   ]
  },
  {
   "cell_type": "markdown",
   "id": "d8797145",
   "metadata": {},
   "source": [
    "``Encode Target Variable``"
   ]
  },
  {
   "cell_type": "code",
   "execution_count": 105,
   "id": "3bcbd554",
   "metadata": {},
   "outputs": [],
   "source": [
    "y.replace(to_replace='Yes', value=1, inplace=True)\n",
    "y.replace(to_replace='No',  value=0, inplace=True)"
   ]
  },
  {
   "cell_type": "code",
   "execution_count": 106,
   "id": "79f524a8",
   "metadata": {},
   "outputs": [
    {
     "data": {
      "text/plain": [
       "0       1\n",
       "1       1\n",
       "2       1\n",
       "3       1\n",
       "4       1\n",
       "       ..\n",
       "7038    0\n",
       "7039    0\n",
       "7040    0\n",
       "7041    0\n",
       "7042    0\n",
       "Name: Churn Label, Length: 7043, dtype: int64"
      ]
     },
     "execution_count": 106,
     "metadata": {},
     "output_type": "execute_result"
    }
   ],
   "source": [
    "y"
   ]
  },
  {
   "cell_type": "code",
   "execution_count": 107,
   "id": "54bfec83",
   "metadata": {},
   "outputs": [],
   "source": [
    "df = df.drop('Churn Label', axis=1)"
   ]
  },
  {
   "cell_type": "markdown",
   "id": "0e87dec7",
   "metadata": {},
   "source": [
    "``Encode Categorical Variables``"
   ]
  },
  {
   "cell_type": "code",
   "execution_count": 108,
   "id": "a050b161",
   "metadata": {},
   "outputs": [
    {
     "data": {
      "text/plain": [
       "Index(['Gender', 'Senior Citizen', 'Partner', 'Dependents', 'Phone Service',\n",
       "       'Multiple Lines', 'Internet Service', 'Online Security',\n",
       "       'Online Backup', 'Device Protection', 'Tech Support', 'Streaming TV',\n",
       "       'Streaming Movies', 'Contract', 'Paperless Billing', 'Payment Method'],\n",
       "      dtype='object')"
      ]
     },
     "execution_count": 108,
     "metadata": {},
     "output_type": "execute_result"
    }
   ],
   "source": [
    "le = LabelEncoder() \n",
    "en_c = df.drop(['Monthly Charges', 'Total Charges','Tenure Months'], axis=1)\n",
    "col = en_c.columns\n",
    "col"
   ]
  },
  {
   "cell_type": "markdown",
   "id": "f3d7ee7a",
   "metadata": {},
   "source": [
    "``Correlation Matrix``"
   ]
  },
  {
   "cell_type": "code",
   "execution_count": 109,
   "id": "e8950c81",
   "metadata": {},
   "outputs": [],
   "source": [
    "for i in col:\n",
    "    df[i] = le.fit_transform(df[i])"
   ]
  },
  {
   "cell_type": "code",
   "execution_count": 110,
   "id": "ad345a89",
   "metadata": {},
   "outputs": [
    {
     "data": {
      "text/html": [
       "<div>\n",
       "<style scoped>\n",
       "    .dataframe tbody tr th:only-of-type {\n",
       "        vertical-align: middle;\n",
       "    }\n",
       "\n",
       "    .dataframe tbody tr th {\n",
       "        vertical-align: top;\n",
       "    }\n",
       "\n",
       "    .dataframe thead th {\n",
       "        text-align: right;\n",
       "    }\n",
       "</style>\n",
       "<table border=\"1\" class=\"dataframe\">\n",
       "  <thead>\n",
       "    <tr style=\"text-align: right;\">\n",
       "      <th></th>\n",
       "      <th>Gender</th>\n",
       "      <th>Senior Citizen</th>\n",
       "      <th>Partner</th>\n",
       "      <th>Dependents</th>\n",
       "      <th>Tenure Months</th>\n",
       "      <th>Phone Service</th>\n",
       "      <th>Multiple Lines</th>\n",
       "      <th>Internet Service</th>\n",
       "      <th>Online Security</th>\n",
       "      <th>Online Backup</th>\n",
       "      <th>Device Protection</th>\n",
       "      <th>Tech Support</th>\n",
       "      <th>Streaming TV</th>\n",
       "      <th>Streaming Movies</th>\n",
       "      <th>Contract</th>\n",
       "      <th>Paperless Billing</th>\n",
       "      <th>Payment Method</th>\n",
       "      <th>Monthly Charges</th>\n",
       "      <th>Total Charges</th>\n",
       "    </tr>\n",
       "  </thead>\n",
       "  <tbody>\n",
       "    <tr>\n",
       "      <th>0</th>\n",
       "      <td>1</td>\n",
       "      <td>0</td>\n",
       "      <td>0</td>\n",
       "      <td>0</td>\n",
       "      <td>2</td>\n",
       "      <td>1</td>\n",
       "      <td>0</td>\n",
       "      <td>0</td>\n",
       "      <td>2</td>\n",
       "      <td>2</td>\n",
       "      <td>0</td>\n",
       "      <td>0</td>\n",
       "      <td>0</td>\n",
       "      <td>0</td>\n",
       "      <td>0</td>\n",
       "      <td>1</td>\n",
       "      <td>3</td>\n",
       "      <td>53.85</td>\n",
       "      <td>108.15</td>\n",
       "    </tr>\n",
       "    <tr>\n",
       "      <th>1</th>\n",
       "      <td>0</td>\n",
       "      <td>0</td>\n",
       "      <td>0</td>\n",
       "      <td>1</td>\n",
       "      <td>2</td>\n",
       "      <td>1</td>\n",
       "      <td>0</td>\n",
       "      <td>1</td>\n",
       "      <td>0</td>\n",
       "      <td>0</td>\n",
       "      <td>0</td>\n",
       "      <td>0</td>\n",
       "      <td>0</td>\n",
       "      <td>0</td>\n",
       "      <td>0</td>\n",
       "      <td>1</td>\n",
       "      <td>2</td>\n",
       "      <td>70.70</td>\n",
       "      <td>151.65</td>\n",
       "    </tr>\n",
       "    <tr>\n",
       "      <th>2</th>\n",
       "      <td>0</td>\n",
       "      <td>0</td>\n",
       "      <td>0</td>\n",
       "      <td>1</td>\n",
       "      <td>8</td>\n",
       "      <td>1</td>\n",
       "      <td>2</td>\n",
       "      <td>1</td>\n",
       "      <td>0</td>\n",
       "      <td>0</td>\n",
       "      <td>2</td>\n",
       "      <td>0</td>\n",
       "      <td>2</td>\n",
       "      <td>2</td>\n",
       "      <td>0</td>\n",
       "      <td>1</td>\n",
       "      <td>2</td>\n",
       "      <td>99.65</td>\n",
       "      <td>820.50</td>\n",
       "    </tr>\n",
       "    <tr>\n",
       "      <th>3</th>\n",
       "      <td>0</td>\n",
       "      <td>0</td>\n",
       "      <td>1</td>\n",
       "      <td>1</td>\n",
       "      <td>28</td>\n",
       "      <td>1</td>\n",
       "      <td>2</td>\n",
       "      <td>1</td>\n",
       "      <td>0</td>\n",
       "      <td>0</td>\n",
       "      <td>2</td>\n",
       "      <td>2</td>\n",
       "      <td>2</td>\n",
       "      <td>2</td>\n",
       "      <td>0</td>\n",
       "      <td>1</td>\n",
       "      <td>2</td>\n",
       "      <td>104.80</td>\n",
       "      <td>3046.05</td>\n",
       "    </tr>\n",
       "    <tr>\n",
       "      <th>4</th>\n",
       "      <td>1</td>\n",
       "      <td>0</td>\n",
       "      <td>0</td>\n",
       "      <td>1</td>\n",
       "      <td>49</td>\n",
       "      <td>1</td>\n",
       "      <td>2</td>\n",
       "      <td>1</td>\n",
       "      <td>0</td>\n",
       "      <td>2</td>\n",
       "      <td>2</td>\n",
       "      <td>0</td>\n",
       "      <td>2</td>\n",
       "      <td>2</td>\n",
       "      <td>0</td>\n",
       "      <td>1</td>\n",
       "      <td>0</td>\n",
       "      <td>103.70</td>\n",
       "      <td>5036.30</td>\n",
       "    </tr>\n",
       "    <tr>\n",
       "      <th>...</th>\n",
       "      <td>...</td>\n",
       "      <td>...</td>\n",
       "      <td>...</td>\n",
       "      <td>...</td>\n",
       "      <td>...</td>\n",
       "      <td>...</td>\n",
       "      <td>...</td>\n",
       "      <td>...</td>\n",
       "      <td>...</td>\n",
       "      <td>...</td>\n",
       "      <td>...</td>\n",
       "      <td>...</td>\n",
       "      <td>...</td>\n",
       "      <td>...</td>\n",
       "      <td>...</td>\n",
       "      <td>...</td>\n",
       "      <td>...</td>\n",
       "      <td>...</td>\n",
       "      <td>...</td>\n",
       "    </tr>\n",
       "    <tr>\n",
       "      <th>7038</th>\n",
       "      <td>0</td>\n",
       "      <td>0</td>\n",
       "      <td>0</td>\n",
       "      <td>0</td>\n",
       "      <td>72</td>\n",
       "      <td>1</td>\n",
       "      <td>0</td>\n",
       "      <td>2</td>\n",
       "      <td>1</td>\n",
       "      <td>1</td>\n",
       "      <td>1</td>\n",
       "      <td>1</td>\n",
       "      <td>1</td>\n",
       "      <td>1</td>\n",
       "      <td>2</td>\n",
       "      <td>1</td>\n",
       "      <td>0</td>\n",
       "      <td>21.15</td>\n",
       "      <td>1419.40</td>\n",
       "    </tr>\n",
       "    <tr>\n",
       "      <th>7039</th>\n",
       "      <td>1</td>\n",
       "      <td>0</td>\n",
       "      <td>1</td>\n",
       "      <td>1</td>\n",
       "      <td>24</td>\n",
       "      <td>1</td>\n",
       "      <td>2</td>\n",
       "      <td>0</td>\n",
       "      <td>2</td>\n",
       "      <td>0</td>\n",
       "      <td>2</td>\n",
       "      <td>2</td>\n",
       "      <td>2</td>\n",
       "      <td>2</td>\n",
       "      <td>1</td>\n",
       "      <td>1</td>\n",
       "      <td>3</td>\n",
       "      <td>84.80</td>\n",
       "      <td>1990.50</td>\n",
       "    </tr>\n",
       "    <tr>\n",
       "      <th>7040</th>\n",
       "      <td>0</td>\n",
       "      <td>0</td>\n",
       "      <td>1</td>\n",
       "      <td>1</td>\n",
       "      <td>72</td>\n",
       "      <td>1</td>\n",
       "      <td>2</td>\n",
       "      <td>1</td>\n",
       "      <td>0</td>\n",
       "      <td>2</td>\n",
       "      <td>2</td>\n",
       "      <td>0</td>\n",
       "      <td>2</td>\n",
       "      <td>2</td>\n",
       "      <td>1</td>\n",
       "      <td>1</td>\n",
       "      <td>1</td>\n",
       "      <td>103.20</td>\n",
       "      <td>7362.90</td>\n",
       "    </tr>\n",
       "    <tr>\n",
       "      <th>7041</th>\n",
       "      <td>0</td>\n",
       "      <td>0</td>\n",
       "      <td>1</td>\n",
       "      <td>1</td>\n",
       "      <td>11</td>\n",
       "      <td>0</td>\n",
       "      <td>1</td>\n",
       "      <td>0</td>\n",
       "      <td>2</td>\n",
       "      <td>0</td>\n",
       "      <td>0</td>\n",
       "      <td>0</td>\n",
       "      <td>0</td>\n",
       "      <td>0</td>\n",
       "      <td>0</td>\n",
       "      <td>1</td>\n",
       "      <td>2</td>\n",
       "      <td>29.60</td>\n",
       "      <td>346.45</td>\n",
       "    </tr>\n",
       "    <tr>\n",
       "      <th>7042</th>\n",
       "      <td>1</td>\n",
       "      <td>0</td>\n",
       "      <td>0</td>\n",
       "      <td>0</td>\n",
       "      <td>66</td>\n",
       "      <td>1</td>\n",
       "      <td>0</td>\n",
       "      <td>1</td>\n",
       "      <td>2</td>\n",
       "      <td>0</td>\n",
       "      <td>2</td>\n",
       "      <td>2</td>\n",
       "      <td>2</td>\n",
       "      <td>2</td>\n",
       "      <td>2</td>\n",
       "      <td>1</td>\n",
       "      <td>0</td>\n",
       "      <td>105.65</td>\n",
       "      <td>6844.50</td>\n",
       "    </tr>\n",
       "  </tbody>\n",
       "</table>\n",
       "<p>7043 rows × 19 columns</p>\n",
       "</div>"
      ],
      "text/plain": [
       "      Gender  Senior Citizen  Partner  Dependents  Tenure Months  \\\n",
       "0          1               0        0           0              2   \n",
       "1          0               0        0           1              2   \n",
       "2          0               0        0           1              8   \n",
       "3          0               0        1           1             28   \n",
       "4          1               0        0           1             49   \n",
       "...      ...             ...      ...         ...            ...   \n",
       "7038       0               0        0           0             72   \n",
       "7039       1               0        1           1             24   \n",
       "7040       0               0        1           1             72   \n",
       "7041       0               0        1           1             11   \n",
       "7042       1               0        0           0             66   \n",
       "\n",
       "      Phone Service  Multiple Lines  Internet Service  Online Security  \\\n",
       "0                 1               0                 0                2   \n",
       "1                 1               0                 1                0   \n",
       "2                 1               2                 1                0   \n",
       "3                 1               2                 1                0   \n",
       "4                 1               2                 1                0   \n",
       "...             ...             ...               ...              ...   \n",
       "7038              1               0                 2                1   \n",
       "7039              1               2                 0                2   \n",
       "7040              1               2                 1                0   \n",
       "7041              0               1                 0                2   \n",
       "7042              1               0                 1                2   \n",
       "\n",
       "      Online Backup  Device Protection  Tech Support  Streaming TV  \\\n",
       "0                 2                  0             0             0   \n",
       "1                 0                  0             0             0   \n",
       "2                 0                  2             0             2   \n",
       "3                 0                  2             2             2   \n",
       "4                 2                  2             0             2   \n",
       "...             ...                ...           ...           ...   \n",
       "7038              1                  1             1             1   \n",
       "7039              0                  2             2             2   \n",
       "7040              2                  2             0             2   \n",
       "7041              0                  0             0             0   \n",
       "7042              0                  2             2             2   \n",
       "\n",
       "      Streaming Movies  Contract  Paperless Billing  Payment Method  \\\n",
       "0                    0         0                  1               3   \n",
       "1                    0         0                  1               2   \n",
       "2                    2         0                  1               2   \n",
       "3                    2         0                  1               2   \n",
       "4                    2         0                  1               0   \n",
       "...                ...       ...                ...             ...   \n",
       "7038                 1         2                  1               0   \n",
       "7039                 2         1                  1               3   \n",
       "7040                 2         1                  1               1   \n",
       "7041                 0         0                  1               2   \n",
       "7042                 2         2                  1               0   \n",
       "\n",
       "      Monthly Charges  Total Charges  \n",
       "0               53.85         108.15  \n",
       "1               70.70         151.65  \n",
       "2               99.65         820.50  \n",
       "3              104.80        3046.05  \n",
       "4              103.70        5036.30  \n",
       "...               ...            ...  \n",
       "7038            21.15        1419.40  \n",
       "7039            84.80        1990.50  \n",
       "7040           103.20        7362.90  \n",
       "7041            29.60         346.45  \n",
       "7042           105.65        6844.50  \n",
       "\n",
       "[7043 rows x 19 columns]"
      ]
     },
     "execution_count": 110,
     "metadata": {},
     "output_type": "execute_result"
    }
   ],
   "source": [
    "df"
   ]
  },
  {
   "cell_type": "code",
   "execution_count": 111,
   "id": "b1550f3a",
   "metadata": {},
   "outputs": [
    {
     "data": {
      "text/html": [
       "<div>\n",
       "<style scoped>\n",
       "    .dataframe tbody tr th:only-of-type {\n",
       "        vertical-align: middle;\n",
       "    }\n",
       "\n",
       "    .dataframe tbody tr th {\n",
       "        vertical-align: top;\n",
       "    }\n",
       "\n",
       "    .dataframe thead th {\n",
       "        text-align: right;\n",
       "    }\n",
       "</style>\n",
       "<table border=\"1\" class=\"dataframe\">\n",
       "  <thead>\n",
       "    <tr style=\"text-align: right;\">\n",
       "      <th></th>\n",
       "      <th>Gender</th>\n",
       "      <th>Senior Citizen</th>\n",
       "      <th>Partner</th>\n",
       "      <th>Dependents</th>\n",
       "      <th>Tenure Months</th>\n",
       "      <th>Phone Service</th>\n",
       "      <th>Multiple Lines</th>\n",
       "      <th>Internet Service</th>\n",
       "      <th>Online Security</th>\n",
       "      <th>Online Backup</th>\n",
       "      <th>Device Protection</th>\n",
       "      <th>Tech Support</th>\n",
       "      <th>Streaming TV</th>\n",
       "      <th>Streaming Movies</th>\n",
       "      <th>Contract</th>\n",
       "      <th>Paperless Billing</th>\n",
       "      <th>Payment Method</th>\n",
       "      <th>Monthly Charges</th>\n",
       "      <th>Total Charges</th>\n",
       "      <th>Churn Label</th>\n",
       "    </tr>\n",
       "  </thead>\n",
       "  <tbody>\n",
       "    <tr>\n",
       "      <th>Gender</th>\n",
       "      <td>1.000000</td>\n",
       "      <td>-0.001874</td>\n",
       "      <td>-0.001808</td>\n",
       "      <td>0.005229</td>\n",
       "      <td>0.005106</td>\n",
       "      <td>-0.006488</td>\n",
       "      <td>-0.006739</td>\n",
       "      <td>-0.000863</td>\n",
       "      <td>-0.015017</td>\n",
       "      <td>-0.012057</td>\n",
       "      <td>0.000549</td>\n",
       "      <td>-0.006825</td>\n",
       "      <td>-0.006421</td>\n",
       "      <td>-0.008743</td>\n",
       "      <td>0.000126</td>\n",
       "      <td>-0.011754</td>\n",
       "      <td>0.017352</td>\n",
       "      <td>-0.014569</td>\n",
       "      <td>-0.000002</td>\n",
       "      <td>-0.008612</td>\n",
       "    </tr>\n",
       "    <tr>\n",
       "      <th>Senior Citizen</th>\n",
       "      <td>-0.001874</td>\n",
       "      <td>1.000000</td>\n",
       "      <td>0.016479</td>\n",
       "      <td>-0.174396</td>\n",
       "      <td>0.016567</td>\n",
       "      <td>0.008576</td>\n",
       "      <td>0.146185</td>\n",
       "      <td>-0.032310</td>\n",
       "      <td>-0.128221</td>\n",
       "      <td>-0.013632</td>\n",
       "      <td>-0.021398</td>\n",
       "      <td>-0.151268</td>\n",
       "      <td>0.030776</td>\n",
       "      <td>0.047266</td>\n",
       "      <td>-0.142554</td>\n",
       "      <td>0.156530</td>\n",
       "      <td>-0.038551</td>\n",
       "      <td>0.220173</td>\n",
       "      <td>0.102652</td>\n",
       "      <td>0.150889</td>\n",
       "    </tr>\n",
       "    <tr>\n",
       "      <th>Partner</th>\n",
       "      <td>-0.001808</td>\n",
       "      <td>0.016479</td>\n",
       "      <td>1.000000</td>\n",
       "      <td>0.363430</td>\n",
       "      <td>0.379697</td>\n",
       "      <td>0.017706</td>\n",
       "      <td>0.142410</td>\n",
       "      <td>0.000891</td>\n",
       "      <td>0.150828</td>\n",
       "      <td>0.153130</td>\n",
       "      <td>0.166330</td>\n",
       "      <td>0.126733</td>\n",
       "      <td>0.137341</td>\n",
       "      <td>0.129574</td>\n",
       "      <td>0.294806</td>\n",
       "      <td>-0.014877</td>\n",
       "      <td>-0.154798</td>\n",
       "      <td>0.096848</td>\n",
       "      <td>0.318364</td>\n",
       "      <td>-0.150448</td>\n",
       "    </tr>\n",
       "    <tr>\n",
       "      <th>Dependents</th>\n",
       "      <td>0.005229</td>\n",
       "      <td>-0.174396</td>\n",
       "      <td>0.363430</td>\n",
       "      <td>1.000000</td>\n",
       "      <td>0.131376</td>\n",
       "      <td>0.000625</td>\n",
       "      <td>-0.028842</td>\n",
       "      <td>0.082993</td>\n",
       "      <td>0.135434</td>\n",
       "      <td>0.084299</td>\n",
       "      <td>0.056460</td>\n",
       "      <td>0.112662</td>\n",
       "      <td>0.016671</td>\n",
       "      <td>-0.000669</td>\n",
       "      <td>0.202279</td>\n",
       "      <td>-0.118963</td>\n",
       "      <td>-0.025370</td>\n",
       "      <td>-0.144206</td>\n",
       "      <td>0.031537</td>\n",
       "      <td>-0.248542</td>\n",
       "    </tr>\n",
       "    <tr>\n",
       "      <th>Tenure Months</th>\n",
       "      <td>0.005106</td>\n",
       "      <td>0.016567</td>\n",
       "      <td>0.379697</td>\n",
       "      <td>0.131376</td>\n",
       "      <td>1.000000</td>\n",
       "      <td>0.008448</td>\n",
       "      <td>0.343032</td>\n",
       "      <td>-0.030359</td>\n",
       "      <td>0.325468</td>\n",
       "      <td>0.370876</td>\n",
       "      <td>0.371105</td>\n",
       "      <td>0.322942</td>\n",
       "      <td>0.289373</td>\n",
       "      <td>0.296866</td>\n",
       "      <td>0.671607</td>\n",
       "      <td>0.006152</td>\n",
       "      <td>-0.370436</td>\n",
       "      <td>0.247900</td>\n",
       "      <td>0.825464</td>\n",
       "      <td>-0.352229</td>\n",
       "    </tr>\n",
       "    <tr>\n",
       "      <th>Phone Service</th>\n",
       "      <td>-0.006488</td>\n",
       "      <td>0.008576</td>\n",
       "      <td>0.017706</td>\n",
       "      <td>0.000625</td>\n",
       "      <td>0.008448</td>\n",
       "      <td>1.000000</td>\n",
       "      <td>-0.020538</td>\n",
       "      <td>0.387436</td>\n",
       "      <td>-0.015198</td>\n",
       "      <td>0.024105</td>\n",
       "      <td>0.003727</td>\n",
       "      <td>-0.019158</td>\n",
       "      <td>0.055353</td>\n",
       "      <td>0.043870</td>\n",
       "      <td>0.002247</td>\n",
       "      <td>0.016505</td>\n",
       "      <td>-0.004184</td>\n",
       "      <td>0.247398</td>\n",
       "      <td>0.113013</td>\n",
       "      <td>0.011942</td>\n",
       "    </tr>\n",
       "    <tr>\n",
       "      <th>Multiple Lines</th>\n",
       "      <td>-0.006739</td>\n",
       "      <td>0.146185</td>\n",
       "      <td>0.142410</td>\n",
       "      <td>-0.028842</td>\n",
       "      <td>0.343032</td>\n",
       "      <td>-0.020538</td>\n",
       "      <td>1.000000</td>\n",
       "      <td>-0.109216</td>\n",
       "      <td>0.007141</td>\n",
       "      <td>0.117327</td>\n",
       "      <td>0.122318</td>\n",
       "      <td>0.011466</td>\n",
       "      <td>0.175059</td>\n",
       "      <td>0.180957</td>\n",
       "      <td>0.110842</td>\n",
       "      <td>0.165146</td>\n",
       "      <td>-0.176793</td>\n",
       "      <td>0.433576</td>\n",
       "      <td>0.452849</td>\n",
       "      <td>0.038037</td>\n",
       "    </tr>\n",
       "    <tr>\n",
       "      <th>Internet Service</th>\n",
       "      <td>-0.000863</td>\n",
       "      <td>-0.032310</td>\n",
       "      <td>0.000891</td>\n",
       "      <td>0.082993</td>\n",
       "      <td>-0.030359</td>\n",
       "      <td>0.387436</td>\n",
       "      <td>-0.109216</td>\n",
       "      <td>1.000000</td>\n",
       "      <td>-0.028416</td>\n",
       "      <td>0.036138</td>\n",
       "      <td>0.044944</td>\n",
       "      <td>-0.026047</td>\n",
       "      <td>0.107417</td>\n",
       "      <td>0.098350</td>\n",
       "      <td>0.099721</td>\n",
       "      <td>-0.138625</td>\n",
       "      <td>0.086140</td>\n",
       "      <td>-0.323260</td>\n",
       "      <td>-0.175588</td>\n",
       "      <td>-0.047291</td>\n",
       "    </tr>\n",
       "    <tr>\n",
       "      <th>Online Security</th>\n",
       "      <td>-0.015017</td>\n",
       "      <td>-0.128221</td>\n",
       "      <td>0.150828</td>\n",
       "      <td>0.135434</td>\n",
       "      <td>0.325468</td>\n",
       "      <td>-0.015198</td>\n",
       "      <td>0.007141</td>\n",
       "      <td>-0.028416</td>\n",
       "      <td>1.000000</td>\n",
       "      <td>0.185126</td>\n",
       "      <td>0.175985</td>\n",
       "      <td>0.285028</td>\n",
       "      <td>0.044669</td>\n",
       "      <td>0.055954</td>\n",
       "      <td>0.374416</td>\n",
       "      <td>-0.157641</td>\n",
       "      <td>-0.096726</td>\n",
       "      <td>-0.053878</td>\n",
       "      <td>0.253935</td>\n",
       "      <td>-0.289309</td>\n",
       "    </tr>\n",
       "    <tr>\n",
       "      <th>Online Backup</th>\n",
       "      <td>-0.012057</td>\n",
       "      <td>-0.013632</td>\n",
       "      <td>0.153130</td>\n",
       "      <td>0.084299</td>\n",
       "      <td>0.370876</td>\n",
       "      <td>0.024105</td>\n",
       "      <td>0.117327</td>\n",
       "      <td>0.036138</td>\n",
       "      <td>0.185126</td>\n",
       "      <td>1.000000</td>\n",
       "      <td>0.187757</td>\n",
       "      <td>0.195748</td>\n",
       "      <td>0.147186</td>\n",
       "      <td>0.136722</td>\n",
       "      <td>0.280980</td>\n",
       "      <td>-0.013370</td>\n",
       "      <td>-0.124847</td>\n",
       "      <td>0.119777</td>\n",
       "      <td>0.375063</td>\n",
       "      <td>-0.195525</td>\n",
       "    </tr>\n",
       "    <tr>\n",
       "      <th>Device Protection</th>\n",
       "      <td>0.000549</td>\n",
       "      <td>-0.021398</td>\n",
       "      <td>0.166330</td>\n",
       "      <td>0.056460</td>\n",
       "      <td>0.371105</td>\n",
       "      <td>0.003727</td>\n",
       "      <td>0.122318</td>\n",
       "      <td>0.044944</td>\n",
       "      <td>0.175985</td>\n",
       "      <td>0.187757</td>\n",
       "      <td>1.000000</td>\n",
       "      <td>0.240593</td>\n",
       "      <td>0.276652</td>\n",
       "      <td>0.288799</td>\n",
       "      <td>0.350277</td>\n",
       "      <td>-0.038234</td>\n",
       "      <td>-0.135750</td>\n",
       "      <td>0.163652</td>\n",
       "      <td>0.388562</td>\n",
       "      <td>-0.178134</td>\n",
       "    </tr>\n",
       "    <tr>\n",
       "      <th>Tech Support</th>\n",
       "      <td>-0.006825</td>\n",
       "      <td>-0.151268</td>\n",
       "      <td>0.126733</td>\n",
       "      <td>0.112662</td>\n",
       "      <td>0.322942</td>\n",
       "      <td>-0.019158</td>\n",
       "      <td>0.011466</td>\n",
       "      <td>-0.026047</td>\n",
       "      <td>0.285028</td>\n",
       "      <td>0.195748</td>\n",
       "      <td>0.240593</td>\n",
       "      <td>1.000000</td>\n",
       "      <td>0.161305</td>\n",
       "      <td>0.161316</td>\n",
       "      <td>0.425367</td>\n",
       "      <td>-0.113600</td>\n",
       "      <td>-0.104670</td>\n",
       "      <td>-0.008682</td>\n",
       "      <td>0.276343</td>\n",
       "      <td>-0.282492</td>\n",
       "    </tr>\n",
       "    <tr>\n",
       "      <th>Streaming TV</th>\n",
       "      <td>-0.006421</td>\n",
       "      <td>0.030776</td>\n",
       "      <td>0.137341</td>\n",
       "      <td>0.016671</td>\n",
       "      <td>0.289373</td>\n",
       "      <td>0.055353</td>\n",
       "      <td>0.175059</td>\n",
       "      <td>0.107417</td>\n",
       "      <td>0.044669</td>\n",
       "      <td>0.147186</td>\n",
       "      <td>0.276652</td>\n",
       "      <td>0.161305</td>\n",
       "      <td>1.000000</td>\n",
       "      <td>0.434772</td>\n",
       "      <td>0.227116</td>\n",
       "      <td>0.096642</td>\n",
       "      <td>-0.104234</td>\n",
       "      <td>0.336706</td>\n",
       "      <td>0.392046</td>\n",
       "      <td>-0.036581</td>\n",
       "    </tr>\n",
       "    <tr>\n",
       "      <th>Streaming Movies</th>\n",
       "      <td>-0.008743</td>\n",
       "      <td>0.047266</td>\n",
       "      <td>0.129574</td>\n",
       "      <td>-0.000669</td>\n",
       "      <td>0.296866</td>\n",
       "      <td>0.043870</td>\n",
       "      <td>0.180957</td>\n",
       "      <td>0.098350</td>\n",
       "      <td>0.055954</td>\n",
       "      <td>0.136722</td>\n",
       "      <td>0.288799</td>\n",
       "      <td>0.161316</td>\n",
       "      <td>0.434772</td>\n",
       "      <td>1.000000</td>\n",
       "      <td>0.231226</td>\n",
       "      <td>0.083700</td>\n",
       "      <td>-0.111241</td>\n",
       "      <td>0.335459</td>\n",
       "      <td>0.398045</td>\n",
       "      <td>-0.038492</td>\n",
       "    </tr>\n",
       "    <tr>\n",
       "      <th>Contract</th>\n",
       "      <td>0.000126</td>\n",
       "      <td>-0.142554</td>\n",
       "      <td>0.294806</td>\n",
       "      <td>0.202279</td>\n",
       "      <td>0.671607</td>\n",
       "      <td>0.002247</td>\n",
       "      <td>0.110842</td>\n",
       "      <td>0.099721</td>\n",
       "      <td>0.374416</td>\n",
       "      <td>0.280980</td>\n",
       "      <td>0.350277</td>\n",
       "      <td>0.425367</td>\n",
       "      <td>0.227116</td>\n",
       "      <td>0.231226</td>\n",
       "      <td>1.000000</td>\n",
       "      <td>-0.176733</td>\n",
       "      <td>-0.227543</td>\n",
       "      <td>-0.074195</td>\n",
       "      <td>0.448564</td>\n",
       "      <td>-0.396713</td>\n",
       "    </tr>\n",
       "    <tr>\n",
       "      <th>Paperless Billing</th>\n",
       "      <td>-0.011754</td>\n",
       "      <td>0.156530</td>\n",
       "      <td>-0.014877</td>\n",
       "      <td>-0.118963</td>\n",
       "      <td>0.006152</td>\n",
       "      <td>0.016505</td>\n",
       "      <td>0.165146</td>\n",
       "      <td>-0.138625</td>\n",
       "      <td>-0.157641</td>\n",
       "      <td>-0.013370</td>\n",
       "      <td>-0.038234</td>\n",
       "      <td>-0.113600</td>\n",
       "      <td>0.096642</td>\n",
       "      <td>0.083700</td>\n",
       "      <td>-0.176733</td>\n",
       "      <td>1.000000</td>\n",
       "      <td>-0.062904</td>\n",
       "      <td>0.352150</td>\n",
       "      <td>0.158055</td>\n",
       "      <td>0.191825</td>\n",
       "    </tr>\n",
       "    <tr>\n",
       "      <th>Payment Method</th>\n",
       "      <td>0.017352</td>\n",
       "      <td>-0.038551</td>\n",
       "      <td>-0.154798</td>\n",
       "      <td>-0.025370</td>\n",
       "      <td>-0.370436</td>\n",
       "      <td>-0.004184</td>\n",
       "      <td>-0.176793</td>\n",
       "      <td>0.086140</td>\n",
       "      <td>-0.096726</td>\n",
       "      <td>-0.124847</td>\n",
       "      <td>-0.135750</td>\n",
       "      <td>-0.104670</td>\n",
       "      <td>-0.104234</td>\n",
       "      <td>-0.111241</td>\n",
       "      <td>-0.227543</td>\n",
       "      <td>-0.062904</td>\n",
       "      <td>1.000000</td>\n",
       "      <td>-0.193407</td>\n",
       "      <td>-0.330511</td>\n",
       "      <td>0.107062</td>\n",
       "    </tr>\n",
       "    <tr>\n",
       "      <th>Monthly Charges</th>\n",
       "      <td>-0.014569</td>\n",
       "      <td>0.220173</td>\n",
       "      <td>0.096848</td>\n",
       "      <td>-0.144206</td>\n",
       "      <td>0.247900</td>\n",
       "      <td>0.247398</td>\n",
       "      <td>0.433576</td>\n",
       "      <td>-0.323260</td>\n",
       "      <td>-0.053878</td>\n",
       "      <td>0.119777</td>\n",
       "      <td>0.163652</td>\n",
       "      <td>-0.008682</td>\n",
       "      <td>0.336706</td>\n",
       "      <td>0.335459</td>\n",
       "      <td>-0.074195</td>\n",
       "      <td>0.352150</td>\n",
       "      <td>-0.193407</td>\n",
       "      <td>1.000000</td>\n",
       "      <td>0.650864</td>\n",
       "      <td>0.193356</td>\n",
       "    </tr>\n",
       "    <tr>\n",
       "      <th>Total Charges</th>\n",
       "      <td>-0.000002</td>\n",
       "      <td>0.102652</td>\n",
       "      <td>0.318364</td>\n",
       "      <td>0.031537</td>\n",
       "      <td>0.825464</td>\n",
       "      <td>0.113013</td>\n",
       "      <td>0.452849</td>\n",
       "      <td>-0.175588</td>\n",
       "      <td>0.253935</td>\n",
       "      <td>0.375063</td>\n",
       "      <td>0.388562</td>\n",
       "      <td>0.276343</td>\n",
       "      <td>0.392046</td>\n",
       "      <td>0.398045</td>\n",
       "      <td>0.448564</td>\n",
       "      <td>0.158055</td>\n",
       "      <td>-0.330511</td>\n",
       "      <td>0.650864</td>\n",
       "      <td>1.000000</td>\n",
       "      <td>-0.199037</td>\n",
       "    </tr>\n",
       "    <tr>\n",
       "      <th>Churn Label</th>\n",
       "      <td>-0.008612</td>\n",
       "      <td>0.150889</td>\n",
       "      <td>-0.150448</td>\n",
       "      <td>-0.248542</td>\n",
       "      <td>-0.352229</td>\n",
       "      <td>0.011942</td>\n",
       "      <td>0.038037</td>\n",
       "      <td>-0.047291</td>\n",
       "      <td>-0.289309</td>\n",
       "      <td>-0.195525</td>\n",
       "      <td>-0.178134</td>\n",
       "      <td>-0.282492</td>\n",
       "      <td>-0.036581</td>\n",
       "      <td>-0.038492</td>\n",
       "      <td>-0.396713</td>\n",
       "      <td>0.191825</td>\n",
       "      <td>0.107062</td>\n",
       "      <td>0.193356</td>\n",
       "      <td>-0.199037</td>\n",
       "      <td>1.000000</td>\n",
       "    </tr>\n",
       "  </tbody>\n",
       "</table>\n",
       "</div>"
      ],
      "text/plain": [
       "                     Gender  Senior Citizen   Partner  Dependents  \\\n",
       "Gender             1.000000       -0.001874 -0.001808    0.005229   \n",
       "Senior Citizen    -0.001874        1.000000  0.016479   -0.174396   \n",
       "Partner           -0.001808        0.016479  1.000000    0.363430   \n",
       "Dependents         0.005229       -0.174396  0.363430    1.000000   \n",
       "Tenure Months      0.005106        0.016567  0.379697    0.131376   \n",
       "Phone Service     -0.006488        0.008576  0.017706    0.000625   \n",
       "Multiple Lines    -0.006739        0.146185  0.142410   -0.028842   \n",
       "Internet Service  -0.000863       -0.032310  0.000891    0.082993   \n",
       "Online Security   -0.015017       -0.128221  0.150828    0.135434   \n",
       "Online Backup     -0.012057       -0.013632  0.153130    0.084299   \n",
       "Device Protection  0.000549       -0.021398  0.166330    0.056460   \n",
       "Tech Support      -0.006825       -0.151268  0.126733    0.112662   \n",
       "Streaming TV      -0.006421        0.030776  0.137341    0.016671   \n",
       "Streaming Movies  -0.008743        0.047266  0.129574   -0.000669   \n",
       "Contract           0.000126       -0.142554  0.294806    0.202279   \n",
       "Paperless Billing -0.011754        0.156530 -0.014877   -0.118963   \n",
       "Payment Method     0.017352       -0.038551 -0.154798   -0.025370   \n",
       "Monthly Charges   -0.014569        0.220173  0.096848   -0.144206   \n",
       "Total Charges     -0.000002        0.102652  0.318364    0.031537   \n",
       "Churn Label       -0.008612        0.150889 -0.150448   -0.248542   \n",
       "\n",
       "                   Tenure Months  Phone Service  Multiple Lines  \\\n",
       "Gender                  0.005106      -0.006488       -0.006739   \n",
       "Senior Citizen          0.016567       0.008576        0.146185   \n",
       "Partner                 0.379697       0.017706        0.142410   \n",
       "Dependents              0.131376       0.000625       -0.028842   \n",
       "Tenure Months           1.000000       0.008448        0.343032   \n",
       "Phone Service           0.008448       1.000000       -0.020538   \n",
       "Multiple Lines          0.343032      -0.020538        1.000000   \n",
       "Internet Service       -0.030359       0.387436       -0.109216   \n",
       "Online Security         0.325468      -0.015198        0.007141   \n",
       "Online Backup           0.370876       0.024105        0.117327   \n",
       "Device Protection       0.371105       0.003727        0.122318   \n",
       "Tech Support            0.322942      -0.019158        0.011466   \n",
       "Streaming TV            0.289373       0.055353        0.175059   \n",
       "Streaming Movies        0.296866       0.043870        0.180957   \n",
       "Contract                0.671607       0.002247        0.110842   \n",
       "Paperless Billing       0.006152       0.016505        0.165146   \n",
       "Payment Method         -0.370436      -0.004184       -0.176793   \n",
       "Monthly Charges         0.247900       0.247398        0.433576   \n",
       "Total Charges           0.825464       0.113013        0.452849   \n",
       "Churn Label            -0.352229       0.011942        0.038037   \n",
       "\n",
       "                   Internet Service  Online Security  Online Backup  \\\n",
       "Gender                    -0.000863        -0.015017      -0.012057   \n",
       "Senior Citizen            -0.032310        -0.128221      -0.013632   \n",
       "Partner                    0.000891         0.150828       0.153130   \n",
       "Dependents                 0.082993         0.135434       0.084299   \n",
       "Tenure Months             -0.030359         0.325468       0.370876   \n",
       "Phone Service              0.387436        -0.015198       0.024105   \n",
       "Multiple Lines            -0.109216         0.007141       0.117327   \n",
       "Internet Service           1.000000        -0.028416       0.036138   \n",
       "Online Security           -0.028416         1.000000       0.185126   \n",
       "Online Backup              0.036138         0.185126       1.000000   \n",
       "Device Protection          0.044944         0.175985       0.187757   \n",
       "Tech Support              -0.026047         0.285028       0.195748   \n",
       "Streaming TV               0.107417         0.044669       0.147186   \n",
       "Streaming Movies           0.098350         0.055954       0.136722   \n",
       "Contract                   0.099721         0.374416       0.280980   \n",
       "Paperless Billing         -0.138625        -0.157641      -0.013370   \n",
       "Payment Method             0.086140        -0.096726      -0.124847   \n",
       "Monthly Charges           -0.323260        -0.053878       0.119777   \n",
       "Total Charges             -0.175588         0.253935       0.375063   \n",
       "Churn Label               -0.047291        -0.289309      -0.195525   \n",
       "\n",
       "                   Device Protection  Tech Support  Streaming TV  \\\n",
       "Gender                      0.000549     -0.006825     -0.006421   \n",
       "Senior Citizen             -0.021398     -0.151268      0.030776   \n",
       "Partner                     0.166330      0.126733      0.137341   \n",
       "Dependents                  0.056460      0.112662      0.016671   \n",
       "Tenure Months               0.371105      0.322942      0.289373   \n",
       "Phone Service               0.003727     -0.019158      0.055353   \n",
       "Multiple Lines              0.122318      0.011466      0.175059   \n",
       "Internet Service            0.044944     -0.026047      0.107417   \n",
       "Online Security             0.175985      0.285028      0.044669   \n",
       "Online Backup               0.187757      0.195748      0.147186   \n",
       "Device Protection           1.000000      0.240593      0.276652   \n",
       "Tech Support                0.240593      1.000000      0.161305   \n",
       "Streaming TV                0.276652      0.161305      1.000000   \n",
       "Streaming Movies            0.288799      0.161316      0.434772   \n",
       "Contract                    0.350277      0.425367      0.227116   \n",
       "Paperless Billing          -0.038234     -0.113600      0.096642   \n",
       "Payment Method             -0.135750     -0.104670     -0.104234   \n",
       "Monthly Charges             0.163652     -0.008682      0.336706   \n",
       "Total Charges               0.388562      0.276343      0.392046   \n",
       "Churn Label                -0.178134     -0.282492     -0.036581   \n",
       "\n",
       "                   Streaming Movies  Contract  Paperless Billing  \\\n",
       "Gender                    -0.008743  0.000126          -0.011754   \n",
       "Senior Citizen             0.047266 -0.142554           0.156530   \n",
       "Partner                    0.129574  0.294806          -0.014877   \n",
       "Dependents                -0.000669  0.202279          -0.118963   \n",
       "Tenure Months              0.296866  0.671607           0.006152   \n",
       "Phone Service              0.043870  0.002247           0.016505   \n",
       "Multiple Lines             0.180957  0.110842           0.165146   \n",
       "Internet Service           0.098350  0.099721          -0.138625   \n",
       "Online Security            0.055954  0.374416          -0.157641   \n",
       "Online Backup              0.136722  0.280980          -0.013370   \n",
       "Device Protection          0.288799  0.350277          -0.038234   \n",
       "Tech Support               0.161316  0.425367          -0.113600   \n",
       "Streaming TV               0.434772  0.227116           0.096642   \n",
       "Streaming Movies           1.000000  0.231226           0.083700   \n",
       "Contract                   0.231226  1.000000          -0.176733   \n",
       "Paperless Billing          0.083700 -0.176733           1.000000   \n",
       "Payment Method            -0.111241 -0.227543          -0.062904   \n",
       "Monthly Charges            0.335459 -0.074195           0.352150   \n",
       "Total Charges              0.398045  0.448564           0.158055   \n",
       "Churn Label               -0.038492 -0.396713           0.191825   \n",
       "\n",
       "                   Payment Method  Monthly Charges  Total Charges  Churn Label  \n",
       "Gender                   0.017352        -0.014569      -0.000002    -0.008612  \n",
       "Senior Citizen          -0.038551         0.220173       0.102652     0.150889  \n",
       "Partner                 -0.154798         0.096848       0.318364    -0.150448  \n",
       "Dependents              -0.025370        -0.144206       0.031537    -0.248542  \n",
       "Tenure Months           -0.370436         0.247900       0.825464    -0.352229  \n",
       "Phone Service           -0.004184         0.247398       0.113013     0.011942  \n",
       "Multiple Lines          -0.176793         0.433576       0.452849     0.038037  \n",
       "Internet Service         0.086140        -0.323260      -0.175588    -0.047291  \n",
       "Online Security         -0.096726        -0.053878       0.253935    -0.289309  \n",
       "Online Backup           -0.124847         0.119777       0.375063    -0.195525  \n",
       "Device Protection       -0.135750         0.163652       0.388562    -0.178134  \n",
       "Tech Support            -0.104670        -0.008682       0.276343    -0.282492  \n",
       "Streaming TV            -0.104234         0.336706       0.392046    -0.036581  \n",
       "Streaming Movies        -0.111241         0.335459       0.398045    -0.038492  \n",
       "Contract                -0.227543        -0.074195       0.448564    -0.396713  \n",
       "Paperless Billing       -0.062904         0.352150       0.158055     0.191825  \n",
       "Payment Method           1.000000        -0.193407      -0.330511     0.107062  \n",
       "Monthly Charges         -0.193407         1.000000       0.650864     0.193356  \n",
       "Total Charges           -0.330511         0.650864       1.000000    -0.199037  \n",
       "Churn Label              0.107062         0.193356      -0.199037     1.000000  "
      ]
     },
     "execution_count": 111,
     "metadata": {},
     "output_type": "execute_result"
    }
   ],
   "source": [
    "xy = pd.concat([df, y], axis=1)\n",
    "xy.corr()"
   ]
  },
  {
   "cell_type": "code",
   "execution_count": 136,
   "id": "04cf8a67",
   "metadata": {},
   "outputs": [],
   "source": [
    "# plt.figure(figsize=(18,16))\n",
    "# sns.heatmap(xy.corr(), annot=True)\n",
    "# plt.show()"
   ]
  },
  {
   "cell_type": "code",
   "execution_count": 113,
   "id": "b86160ec",
   "metadata": {},
   "outputs": [
    {
     "data": {
      "text/plain": [
       "(7043, 19)"
      ]
     },
     "execution_count": 113,
     "metadata": {},
     "output_type": "execute_result"
    }
   ],
   "source": [
    "df.shape"
   ]
  },
  {
   "cell_type": "markdown",
   "id": "50a81c6e",
   "metadata": {},
   "source": [
    "``Handle Imbalanced Dataset``"
   ]
  },
  {
   "cell_type": "code",
   "execution_count": 114,
   "id": "e04196e0",
   "metadata": {},
   "outputs": [
    {
     "data": {
      "text/plain": [
       "0    5174\n",
       "1    1869\n",
       "Name: Churn Label, dtype: int64"
      ]
     },
     "execution_count": 114,
     "metadata": {},
     "output_type": "execute_result"
    }
   ],
   "source": [
    "y.value_counts()"
   ]
  },
  {
   "cell_type": "code",
   "execution_count": 115,
   "id": "f65cc585",
   "metadata": {},
   "outputs": [],
   "source": [
    "smt = SMOTE(random_state=42)\n",
    "Xs, ys = smt.fit_resample(df,y)"
   ]
  },
  {
   "cell_type": "code",
   "execution_count": 116,
   "id": "778fab3e",
   "metadata": {},
   "outputs": [
    {
     "data": {
      "text/plain": [
       "(10348, 19)"
      ]
     },
     "execution_count": 116,
     "metadata": {},
     "output_type": "execute_result"
    }
   ],
   "source": [
    "Xs.shape"
   ]
  },
  {
   "cell_type": "code",
   "execution_count": 117,
   "id": "e7243f23",
   "metadata": {},
   "outputs": [
    {
     "data": {
      "text/plain": [
       "(10348,)"
      ]
     },
     "execution_count": 117,
     "metadata": {},
     "output_type": "execute_result"
    }
   ],
   "source": [
    "ys.shape"
   ]
  },
  {
   "cell_type": "code",
   "execution_count": 118,
   "id": "6ffbc251",
   "metadata": {},
   "outputs": [
    {
     "data": {
      "text/plain": [
       "0    5174\n",
       "1    5174\n",
       "Name: Churn Label, dtype: int64"
      ]
     },
     "execution_count": 118,
     "metadata": {},
     "output_type": "execute_result"
    }
   ],
   "source": [
    "ys.value_counts()"
   ]
  },
  {
   "cell_type": "markdown",
   "id": "52d8026e",
   "metadata": {},
   "source": [
    "# Step 4: Split the Data into Training and Test Sets"
   ]
  },
  {
   "cell_type": "code",
   "execution_count": 119,
   "id": "7f8ec6d8",
   "metadata": {},
   "outputs": [],
   "source": [
    "X_train, X_test, y_train, y_test = train_test_split(Xs, ys, test_size=0.2, random_state=42)"
   ]
  },
  {
   "cell_type": "markdown",
   "id": "c30c81e5",
   "metadata": {},
   "source": [
    "# Step 5: Baseline Models"
   ]
  },
  {
   "cell_type": "code",
   "execution_count": 120,
   "id": "fc798e57",
   "metadata": {},
   "outputs": [],
   "source": [
    "models = {\n",
    "    'rf' : RandomForestClassifier(random_state=42),\n",
    "    'lr' : LogisticRegression(random_state=42)\n",
    "}"
   ]
  },
  {
   "cell_type": "code",
   "execution_count": 121,
   "id": "e6ef96fa",
   "metadata": {},
   "outputs": [],
   "source": [
    "result = []\n",
    "\n",
    "for name, model in models.items():\n",
    "    model.fit(X_train,y_train)\n",
    "\n",
    "    yp = model.predict(X_test)\n",
    "\n",
    "    acs = accuracy_score(yp, y_test)\n",
    "    f1 = f1_score(yp, y_test)\n",
    "    rs = recall_score(yp, y_test)\n",
    "    ps = precision_score(yp, y_test)\n",
    "\n",
    "    result.append({\n",
    "        'Model' : name,\n",
    "        'accuracy_score' : acs,\n",
    "        'f1' : f1,\n",
    "        'recall' : rs,\n",
    "        'ps' : ps\n",
    "    })"
   ]
  },
  {
   "cell_type": "code",
   "execution_count": 122,
   "id": "ab66694b",
   "metadata": {},
   "outputs": [
    {
     "data": {
      "text/html": [
       "<div>\n",
       "<style scoped>\n",
       "    .dataframe tbody tr th:only-of-type {\n",
       "        vertical-align: middle;\n",
       "    }\n",
       "\n",
       "    .dataframe tbody tr th {\n",
       "        vertical-align: top;\n",
       "    }\n",
       "\n",
       "    .dataframe thead th {\n",
       "        text-align: right;\n",
       "    }\n",
       "</style>\n",
       "<table border=\"1\" class=\"dataframe\">\n",
       "  <thead>\n",
       "    <tr style=\"text-align: right;\">\n",
       "      <th></th>\n",
       "      <th>Model</th>\n",
       "      <th>accuracy_score</th>\n",
       "      <th>f1</th>\n",
       "      <th>recall</th>\n",
       "      <th>ps</th>\n",
       "    </tr>\n",
       "  </thead>\n",
       "  <tbody>\n",
       "    <tr>\n",
       "      <th>0</th>\n",
       "      <td>rf</td>\n",
       "      <td>0.867150</td>\n",
       "      <td>0.869606</td>\n",
       "      <td>0.870019</td>\n",
       "      <td>0.869194</td>\n",
       "    </tr>\n",
       "    <tr>\n",
       "      <th>1</th>\n",
       "      <td>lr</td>\n",
       "      <td>0.800483</td>\n",
       "      <td>0.807818</td>\n",
       "      <td>0.793419</td>\n",
       "      <td>0.822749</td>\n",
       "    </tr>\n",
       "  </tbody>\n",
       "</table>\n",
       "</div>"
      ],
      "text/plain": [
       "  Model  accuracy_score        f1    recall        ps\n",
       "0    rf        0.867150  0.869606  0.870019  0.869194\n",
       "1    lr        0.800483  0.807818  0.793419  0.822749"
      ]
     },
     "execution_count": 122,
     "metadata": {},
     "output_type": "execute_result"
    }
   ],
   "source": [
    "result = pd.DataFrame(result)\n",
    "result"
   ]
  },
  {
   "cell_type": "markdown",
   "id": "6a75b593",
   "metadata": {},
   "source": [
    "# Step 6: Hyperparameter Tuning for Random Forest"
   ]
  },
  {
   "cell_type": "code",
   "execution_count": 123,
   "id": "a5c3f22e",
   "metadata": {},
   "outputs": [],
   "source": [
    "prm = {\n",
    "    'n_estimators' : [50,100,150],\n",
    "    'criterion' : ['gini', 'entropy', 'log_loss'],\n",
    "    'max_depth' : [2,3,4,5],\n",
    "    'max_features' : ['sqrt', 'log2', None]\n",
    "}"
   ]
  },
  {
   "cell_type": "code",
   "execution_count": 124,
   "id": "1b05ebc3",
   "metadata": {},
   "outputs": [],
   "source": [
    "rf = RandomForestClassifier(random_state=42)"
   ]
  },
  {
   "cell_type": "code",
   "execution_count": 125,
   "id": "249876d9",
   "metadata": {},
   "outputs": [],
   "source": [
    "rs = RandomizedSearchCV(\n",
    "    estimator= rf,\n",
    "    param_distributions= prm,\n",
    "    n_iter=100,\n",
    "    n_jobs=-1,\n",
    "    random_state=42,\n",
    "    cv=5,\n",
    "    scoring='f1'\n",
    ")"
   ]
  },
  {
   "cell_type": "code",
   "execution_count": 126,
   "id": "892e748e",
   "metadata": {},
   "outputs": [
    {
     "data": {
      "text/plain": [
       "RandomizedSearchCV(cv=5, estimator=RandomForestClassifier(random_state=42),\n",
       "                   n_iter=100, n_jobs=-1,\n",
       "                   param_distributions={'criterion': ['gini', 'entropy',\n",
       "                                                      'log_loss'],\n",
       "                                        'max_depth': [2, 3, 4, 5],\n",
       "                                        'max_features': ['sqrt', 'log2', None],\n",
       "                                        'n_estimators': [50, 100, 150]},\n",
       "                   random_state=42, scoring='f1')"
      ]
     },
     "execution_count": 126,
     "metadata": {},
     "output_type": "execute_result"
    }
   ],
   "source": [
    "rs.fit(X_train,y_train)"
   ]
  },
  {
   "cell_type": "code",
   "execution_count": 127,
   "id": "cc10bdc0",
   "metadata": {},
   "outputs": [
    {
     "data": {
      "text/plain": [
       "0.824066835109139"
      ]
     },
     "execution_count": 127,
     "metadata": {},
     "output_type": "execute_result"
    }
   ],
   "source": [
    "rs.best_score_"
   ]
  },
  {
   "cell_type": "code",
   "execution_count": 128,
   "id": "449bf26e",
   "metadata": {},
   "outputs": [
    {
     "data": {
      "text/plain": [
       "{'n_estimators': 50,\n",
       " 'max_features': 'log2',\n",
       " 'max_depth': 5,\n",
       " 'criterion': 'gini'}"
      ]
     },
     "execution_count": 128,
     "metadata": {},
     "output_type": "execute_result"
    }
   ],
   "source": [
    "rs.best_params_"
   ]
  },
  {
   "cell_type": "markdown",
   "id": "9c50d4ad",
   "metadata": {},
   "source": [
    "# Step 7: Train Optimized Model"
   ]
  },
  {
   "cell_type": "code",
   "execution_count": 129,
   "id": "ef416553",
   "metadata": {},
   "outputs": [],
   "source": [
    "rf = RandomForestClassifier(\n",
    "    n_estimators=50,\n",
    "    max_depth=5,\n",
    "   max_features='log2',\n",
    "    criterion= 'gini'\n",
    ")"
   ]
  },
  {
   "cell_type": "code",
   "execution_count": 130,
   "id": "4e52c056",
   "metadata": {},
   "outputs": [
    {
     "data": {
      "text/plain": [
       "RandomForestClassifier(max_depth=5, max_features='log2', n_estimators=50)"
      ]
     },
     "execution_count": 130,
     "metadata": {},
     "output_type": "execute_result"
    }
   ],
   "source": [
    "rf.fit(X_train,y_train)"
   ]
  },
  {
   "cell_type": "markdown",
   "id": "9ebac56d",
   "metadata": {},
   "source": [
    "``Evaluate Optimized Model``"
   ]
  },
  {
   "cell_type": "code",
   "execution_count": 131,
   "id": "7bd9b8c5",
   "metadata": {},
   "outputs": [],
   "source": [
    "yp = rf.predict(X_test)\n",
    "\n",
    "acs = accuracy_score(yp, y_test)\n",
    "f1 = f1_score(yp, y_test)\n",
    "rs = recall_score(yp, y_test)\n",
    "ps = precision_score(yp, y_test)"
   ]
  },
  {
   "cell_type": "code",
   "execution_count": 132,
   "id": "c33c7b75",
   "metadata": {},
   "outputs": [
    {
     "name": "stdout",
     "output_type": "stream",
     "text": [
      "Accuracy Score:  0.8159420289855073\n",
      "F1_score:  0.8232018561484921\n",
      "Recall:  0.8063636363636364\n",
      "Presison:  0.8407582938388626\n"
     ]
    }
   ],
   "source": [
    "print ('Accuracy Score: ', acs)\n",
    "print ('F1_score: ', f1)\n",
    "print ('Recall: ', rs)\n",
    "print ('Presison: ', ps)"
   ]
  },
  {
   "cell_type": "markdown",
   "id": "8ba68e3d",
   "metadata": {},
   "source": [
    "`` Plot ROC Curve``"
   ]
  },
  {
   "cell_type": "code",
   "execution_count": 133,
   "id": "7c98337c",
   "metadata": {},
   "outputs": [
    {
     "data": {
      "image/png": "[encoded data removed]",
      "text/plain": [
       "<Figure size 432x288 with 1 Axes>"
      ]
     },
     "metadata": {
      "needs_background": "light"
     },
     "output_type": "display_data"
    }
   ],
   "source": [
    "fpr, tpr, _ = roc_curve(y_test, yp)\n",
    "plt.plot(fpr, tpr, label=\"ROC Curve\")\n",
    "plt.xlabel(\"False Positive Rate\")\n",
    "plt.ylabel(\"True Positive Rate\")\n",
    "plt.title(\"ROC Curve\")\n",
    "plt.legend()\n",
    "plt.show()"
   ]
  },
  {
   "cell_type": "markdown",
   "id": "609c9acf",
   "metadata": {},
   "source": [
    "``Feature Importance``"
   ]
  },
  {
   "cell_type": "code",
   "execution_count": 134,
   "id": "4bf545e2",
   "metadata": {},
   "outputs": [
    {
     "data": {
      "image/png": "[encoded data removed]",
      "text/plain": [
       "<Figure size 432x288 with 1 Axes>"
      ]
     },
     "metadata": {
      "needs_background": "light"
     },
     "output_type": "display_data"
    }
   ],
   "source": [
    "importances = rf.feature_importances_\n",
    "feature_names = X_train.columns\n",
    "sns.barplot(x=importances, y=feature_names)\n",
    "plt.title(\"Feature Importance\")\n",
    "plt.show()\n"
   ]
  },
  {
   "cell_type": "markdown",
   "id": "69f54555",
   "metadata": {},
   "source": [
    "# Step 8: Save Model"
   ]
  },
  {
   "cell_type": "code",
   "execution_count": 135,
   "id": "6bbf0d18",
   "metadata": {},
   "outputs": [
    {
     "name": "stdout",
     "output_type": "stream",
     "text": [
      "Model saved as 'optimized_rf_model.pkl'\n"
     ]
    }
   ],
   "source": [
    "joblib.dump(rf, 'optimized_rf_model.pkl')\n",
    "print(\"Model saved as 'optimized_rf_model.pkl'\")"
   ]
  },
  {
   "cell_type": "code",
   "execution_count": null,
   "id": "2c63caa7",
   "metadata": {},
   "outputs": [],
   "source": []
  }
 ],
 "metadata": {
  "kernelspec": {
   "display_name": "Python 3 (ipykernel)",
   "language": "python",
   "name": "python3"
  },
  "language_info": {
   "codemirror_mode": {
    "name": "ipython",
    "version": 3
   },
   "file_extension": ".py",
   "mimetype": "text/x-python",
   "name": "python",
   "nbconvert_exporter": "python",
   "pygments_lexer": "ipython3",
   "version": "3.9.12"
  }
 },
 "nbformat": 4,
 "nbformat_minor": 5
}
